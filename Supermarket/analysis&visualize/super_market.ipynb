{
  "cells": [
    {
      "cell_type": "code",
      "execution_count": null,
      "metadata": {
        "id": "1qr0gkMOMhGD"
      },
      "outputs": [],
      "source": [
        "import matplotlib.pyplot as plt\n",
        "import numpy as np\n",
        "from numpy.random import normal\n",
        "import math\n",
        "from scipy.stats import hypergeom\n",
        "import scipy.stats as stats\n"
      ]
    },
    {
      "cell_type": "code",
      "execution_count": null,
      "metadata": {
        "colab": {
          "base_uri": "https://localhost:8080/",
          "height": 354
        },
        "id": "-TDbNWNZIjaB",
        "outputId": "b0a74647-a672-4e68-c5d8-0d32b258ce18"
      },
      "outputs": [
        {
          "output_type": "execute_result",
          "data": {
            "text/html": [
              "\n",
              "  <div id=\"df-c5aece4f-5937-4b30-a0af-f81121ff7ce0\">\n",
              "    <div class=\"colab-df-container\">\n",
              "      <div>\n",
              "<style scoped>\n",
              "    .dataframe tbody tr th:only-of-type {\n",
              "        vertical-align: middle;\n",
              "    }\n",
              "\n",
              "    .dataframe tbody tr th {\n",
              "        vertical-align: top;\n",
              "    }\n",
              "\n",
              "    .dataframe thead th {\n",
              "        text-align: right;\n",
              "    }\n",
              "</style>\n",
              "<table border=\"1\" class=\"dataframe\">\n",
              "  <thead>\n",
              "    <tr style=\"text-align: right;\">\n",
              "      <th></th>\n",
              "      <th>Invoice ID</th>\n",
              "      <th>Branch</th>\n",
              "      <th>City</th>\n",
              "      <th>Customer type</th>\n",
              "      <th>Gender</th>\n",
              "      <th>Product line</th>\n",
              "      <th>Unit price</th>\n",
              "      <th>Quantity</th>\n",
              "      <th>Tax 5%</th>\n",
              "      <th>Total</th>\n",
              "      <th>Date</th>\n",
              "      <th>Time</th>\n",
              "      <th>Payment</th>\n",
              "      <th>cogs</th>\n",
              "      <th>gross margin percentage</th>\n",
              "      <th>gross income</th>\n",
              "      <th>Rating</th>\n",
              "    </tr>\n",
              "  </thead>\n",
              "  <tbody>\n",
              "    <tr>\n",
              "      <th>0</th>\n",
              "      <td>750-67-8428</td>\n",
              "      <td>A</td>\n",
              "      <td>Yangon</td>\n",
              "      <td>Member</td>\n",
              "      <td>Female</td>\n",
              "      <td>Health and beauty</td>\n",
              "      <td>74.69</td>\n",
              "      <td>7</td>\n",
              "      <td>26.1415</td>\n",
              "      <td>548.9715</td>\n",
              "      <td>1/5/2019</td>\n",
              "      <td>13:08</td>\n",
              "      <td>Ewallet</td>\n",
              "      <td>522.83</td>\n",
              "      <td>4.761905</td>\n",
              "      <td>26.1415</td>\n",
              "      <td>9.1</td>\n",
              "    </tr>\n",
              "    <tr>\n",
              "      <th>1</th>\n",
              "      <td>226-31-3081</td>\n",
              "      <td>C</td>\n",
              "      <td>Naypyitaw</td>\n",
              "      <td>Normal</td>\n",
              "      <td>Female</td>\n",
              "      <td>Electronic accessories</td>\n",
              "      <td>15.28</td>\n",
              "      <td>5</td>\n",
              "      <td>3.8200</td>\n",
              "      <td>80.2200</td>\n",
              "      <td>3/8/2019</td>\n",
              "      <td>10:29</td>\n",
              "      <td>Cash</td>\n",
              "      <td>76.40</td>\n",
              "      <td>4.761905</td>\n",
              "      <td>3.8200</td>\n",
              "      <td>9.6</td>\n",
              "    </tr>\n",
              "    <tr>\n",
              "      <th>2</th>\n",
              "      <td>631-41-3108</td>\n",
              "      <td>A</td>\n",
              "      <td>Yangon</td>\n",
              "      <td>Normal</td>\n",
              "      <td>Male</td>\n",
              "      <td>Home and lifestyle</td>\n",
              "      <td>46.33</td>\n",
              "      <td>7</td>\n",
              "      <td>16.2155</td>\n",
              "      <td>340.5255</td>\n",
              "      <td>3/3/2019</td>\n",
              "      <td>13:23</td>\n",
              "      <td>Credit card</td>\n",
              "      <td>324.31</td>\n",
              "      <td>4.761905</td>\n",
              "      <td>16.2155</td>\n",
              "      <td>7.4</td>\n",
              "    </tr>\n",
              "    <tr>\n",
              "      <th>3</th>\n",
              "      <td>123-19-1176</td>\n",
              "      <td>A</td>\n",
              "      <td>Yangon</td>\n",
              "      <td>Member</td>\n",
              "      <td>Male</td>\n",
              "      <td>Health and beauty</td>\n",
              "      <td>58.22</td>\n",
              "      <td>8</td>\n",
              "      <td>23.2880</td>\n",
              "      <td>489.0480</td>\n",
              "      <td>1/27/2019</td>\n",
              "      <td>20:33</td>\n",
              "      <td>Ewallet</td>\n",
              "      <td>465.76</td>\n",
              "      <td>4.761905</td>\n",
              "      <td>23.2880</td>\n",
              "      <td>8.4</td>\n",
              "    </tr>\n",
              "    <tr>\n",
              "      <th>4</th>\n",
              "      <td>373-73-7910</td>\n",
              "      <td>A</td>\n",
              "      <td>Yangon</td>\n",
              "      <td>Normal</td>\n",
              "      <td>Male</td>\n",
              "      <td>Sports and travel</td>\n",
              "      <td>86.31</td>\n",
              "      <td>7</td>\n",
              "      <td>30.2085</td>\n",
              "      <td>634.3785</td>\n",
              "      <td>2/8/2019</td>\n",
              "      <td>10:37</td>\n",
              "      <td>Ewallet</td>\n",
              "      <td>604.17</td>\n",
              "      <td>4.761905</td>\n",
              "      <td>30.2085</td>\n",
              "      <td>5.3</td>\n",
              "    </tr>\n",
              "  </tbody>\n",
              "</table>\n",
              "</div>\n",
              "      <button class=\"colab-df-convert\" onclick=\"convertToInteractive('df-c5aece4f-5937-4b30-a0af-f81121ff7ce0')\"\n",
              "              title=\"Convert this dataframe to an interactive table.\"\n",
              "              style=\"display:none;\">\n",
              "        \n",
              "  <svg xmlns=\"http://www.w3.org/2000/svg\" height=\"24px\"viewBox=\"0 0 24 24\"\n",
              "       width=\"24px\">\n",
              "    <path d=\"M0 0h24v24H0V0z\" fill=\"none\"/>\n",
              "    <path d=\"M18.56 5.44l.94 2.06.94-2.06 2.06-.94-2.06-.94-.94-2.06-.94 2.06-2.06.94zm-11 1L8.5 8.5l.94-2.06 2.06-.94-2.06-.94L8.5 2.5l-.94 2.06-2.06.94zm10 10l.94 2.06.94-2.06 2.06-.94-2.06-.94-.94-2.06-.94 2.06-2.06.94z\"/><path d=\"M17.41 7.96l-1.37-1.37c-.4-.4-.92-.59-1.43-.59-.52 0-1.04.2-1.43.59L10.3 9.45l-7.72 7.72c-.78.78-.78 2.05 0 2.83L4 21.41c.39.39.9.59 1.41.59.51 0 1.02-.2 1.41-.59l7.78-7.78 2.81-2.81c.8-.78.8-2.07 0-2.86zM5.41 20L4 18.59l7.72-7.72 1.47 1.35L5.41 20z\"/>\n",
              "  </svg>\n",
              "      </button>\n",
              "      \n",
              "  <style>\n",
              "    .colab-df-container {\n",
              "      display:flex;\n",
              "      flex-wrap:wrap;\n",
              "      gap: 12px;\n",
              "    }\n",
              "\n",
              "    .colab-df-convert {\n",
              "      background-color: #E8F0FE;\n",
              "      border: none;\n",
              "      border-radius: 50%;\n",
              "      cursor: pointer;\n",
              "      display: none;\n",
              "      fill: #1967D2;\n",
              "      height: 32px;\n",
              "      padding: 0 0 0 0;\n",
              "      width: 32px;\n",
              "    }\n",
              "\n",
              "    .colab-df-convert:hover {\n",
              "      background-color: #E2EBFA;\n",
              "      box-shadow: 0px 1px 2px rgba(60, 64, 67, 0.3), 0px 1px 3px 1px rgba(60, 64, 67, 0.15);\n",
              "      fill: #174EA6;\n",
              "    }\n",
              "\n",
              "    [theme=dark] .colab-df-convert {\n",
              "      background-color: #3B4455;\n",
              "      fill: #D2E3FC;\n",
              "    }\n",
              "\n",
              "    [theme=dark] .colab-df-convert:hover {\n",
              "      background-color: #434B5C;\n",
              "      box-shadow: 0px 1px 3px 1px rgba(0, 0, 0, 0.15);\n",
              "      filter: drop-shadow(0px 1px 2px rgba(0, 0, 0, 0.3));\n",
              "      fill: #FFFFFF;\n",
              "    }\n",
              "  </style>\n",
              "\n",
              "      <script>\n",
              "        const buttonEl =\n",
              "          document.querySelector('#df-c5aece4f-5937-4b30-a0af-f81121ff7ce0 button.colab-df-convert');\n",
              "        buttonEl.style.display =\n",
              "          google.colab.kernel.accessAllowed ? 'block' : 'none';\n",
              "\n",
              "        async function convertToInteractive(key) {\n",
              "          const element = document.querySelector('#df-c5aece4f-5937-4b30-a0af-f81121ff7ce0');\n",
              "          const dataTable =\n",
              "            await google.colab.kernel.invokeFunction('convertToInteractive',\n",
              "                                                     [key], {});\n",
              "          if (!dataTable) return;\n",
              "\n",
              "          const docLinkHtml = 'Like what you see? Visit the ' +\n",
              "            '<a target=\"_blank\" href=https://colab.research.google.com/notebooks/data_table.ipynb>data table notebook</a>'\n",
              "            + ' to learn more about interactive tables.';\n",
              "          element.innerHTML = '';\n",
              "          dataTable['output_type'] = 'display_data';\n",
              "          await google.colab.output.renderOutput(dataTable, element);\n",
              "          const docLink = document.createElement('div');\n",
              "          docLink.innerHTML = docLinkHtml;\n",
              "          element.appendChild(docLink);\n",
              "        }\n",
              "      </script>\n",
              "    </div>\n",
              "  </div>\n",
              "  "
            ],
            "text/plain": [
              "    Invoice ID Branch       City Customer type  Gender  \\\n",
              "0  750-67-8428      A     Yangon        Member  Female   \n",
              "1  226-31-3081      C  Naypyitaw        Normal  Female   \n",
              "2  631-41-3108      A     Yangon        Normal    Male   \n",
              "3  123-19-1176      A     Yangon        Member    Male   \n",
              "4  373-73-7910      A     Yangon        Normal    Male   \n",
              "\n",
              "             Product line  Unit price  Quantity   Tax 5%     Total       Date  \\\n",
              "0       Health and beauty       74.69         7  26.1415  548.9715   1/5/2019   \n",
              "1  Electronic accessories       15.28         5   3.8200   80.2200   3/8/2019   \n",
              "2      Home and lifestyle       46.33         7  16.2155  340.5255   3/3/2019   \n",
              "3       Health and beauty       58.22         8  23.2880  489.0480  1/27/2019   \n",
              "4       Sports and travel       86.31         7  30.2085  634.3785   2/8/2019   \n",
              "\n",
              "    Time      Payment    cogs  gross margin percentage  gross income  Rating  \n",
              "0  13:08      Ewallet  522.83                 4.761905       26.1415     9.1  \n",
              "1  10:29         Cash   76.40                 4.761905        3.8200     9.6  \n",
              "2  13:23  Credit card  324.31                 4.761905       16.2155     7.4  \n",
              "3  20:33      Ewallet  465.76                 4.761905       23.2880     8.4  \n",
              "4  10:37      Ewallet  604.17                 4.761905       30.2085     5.3  "
            ]
          },
          "metadata": {},
          "execution_count": 100
        }
      ],
      "source": [
        "import pandas as pd\n",
        "df = pd.read_csv(\"super market (1).csv\")\n",
        "df.head()"
      ]
    },
    {
      "cell_type": "code",
      "execution_count": null,
      "metadata": {
        "colab": {
          "base_uri": "https://localhost:8080/"
        },
        "id": "QRP2lUOy_4_z",
        "outputId": "e38319ec-92e8-404a-844d-ef930934cdf4"
      },
      "outputs": [
        {
          "output_type": "execute_result",
          "data": {
            "text/plain": [
              "Invoice ID                 False\n",
              "Branch                     False\n",
              "City                       False\n",
              "Customer type              False\n",
              "Gender                     False\n",
              "Product line               False\n",
              "Unit price                 False\n",
              "Quantity                   False\n",
              "Tax 5%                     False\n",
              "Total                      False\n",
              "Date                       False\n",
              "Time                       False\n",
              "Payment                    False\n",
              "cogs                       False\n",
              "gross margin percentage    False\n",
              "grossincome                False\n",
              "Rating                     False\n",
              "dtype: bool"
            ]
          },
          "metadata": {},
          "execution_count": 113
        }
      ],
      "source": [
        "df.isnull().any()"
      ]
    },
    {
      "cell_type": "code",
      "execution_count": null,
      "metadata": {
        "colab": {
          "base_uri": "https://localhost:8080/"
        },
        "id": "iD1tHgmHAJyt",
        "outputId": "3b027fdd-a3e4-413c-cf2e-9ea6db17adf0"
      },
      "outputs": [
        {
          "output_type": "stream",
          "name": "stdout",
          "text": [
            "<class 'pandas.core.frame.DataFrame'>\n",
            "RangeIndex: 1000 entries, 0 to 999\n",
            "Data columns (total 17 columns):\n",
            " #   Column                   Non-Null Count  Dtype  \n",
            "---  ------                   --------------  -----  \n",
            " 0   Invoice ID               1000 non-null   object \n",
            " 1   Branch                   1000 non-null   object \n",
            " 2   City                     1000 non-null   object \n",
            " 3   Customer type            1000 non-null   object \n",
            " 4   Gender                   1000 non-null   object \n",
            " 5   Product line             1000 non-null   object \n",
            " 6   Unit price               1000 non-null   float64\n",
            " 7   Quantity                 1000 non-null   int64  \n",
            " 8   Tax 5%                   1000 non-null   float64\n",
            " 9   Total                    1000 non-null   float64\n",
            " 10  Date                     1000 non-null   object \n",
            " 11  Time                     1000 non-null   object \n",
            " 12  Payment                  1000 non-null   object \n",
            " 13  cogs                     1000 non-null   float64\n",
            " 14  gross margin percentage  1000 non-null   float64\n",
            " 15  grossincome              1000 non-null   float64\n",
            " 16  Rating                   1000 non-null   float64\n",
            "dtypes: float64(7), int64(1), object(9)\n",
            "memory usage: 132.9+ KB\n"
          ]
        }
      ],
      "source": [
        "df.info()"
      ]
    },
    {
      "cell_type": "code",
      "execution_count": null,
      "metadata": {
        "id": "r3pB13ezDb6v"
      },
      "outputs": [],
      "source": [
        "df.rename(columns={'gross income': 'grossincome'}, inplace=True)"
      ]
    },
    {
      "cell_type": "code",
      "execution_count": null,
      "metadata": {
        "colab": {
          "base_uri": "https://localhost:8080/"
        },
        "id": "Csvrd8IQDq9E",
        "outputId": "6b66e0b8-91aa-4242-ccd2-d5625e2bbf17"
      },
      "outputs": [
        {
          "output_type": "execute_result",
          "data": {
            "text/plain": [
              "0    26.1415\n",
              "1     3.8200\n",
              "2    16.2155\n",
              "3    23.2880\n",
              "4    30.2085\n",
              "Name: grossincome, dtype: float64"
            ]
          },
          "metadata": {},
          "execution_count": 102
        }
      ],
      "source": [
        "df.grossincome.head()"
      ]
    },
    {
      "cell_type": "code",
      "source": [
        "#@title performing estimation "
      ],
      "metadata": {
        "cellView": "form",
        "id": "VeoWGC09ipYw"
      },
      "execution_count": null,
      "outputs": []
    },
    {
      "cell_type": "code",
      "execution_count": null,
      "metadata": {
        "colab": {
          "base_uri": "https://localhost:8080/"
        },
        "id": "H3anfaEziglJ",
        "outputId": "a0e7c861-577f-4677-ac89-6f475e7a7600"
      },
      "outputs": [
        {
          "output_type": "execute_result",
          "data": {
            "text/plain": [
              "1000"
            ]
          },
          "metadata": {},
          "execution_count": 103
        }
      ],
      "source": [
        "df['grossincome'].count()"
      ]
    },
    {
      "cell_type": "code",
      "execution_count": null,
      "metadata": {
        "colab": {
          "base_uri": "https://localhost:8080/"
        },
        "id": "PWkdW0biiuPz",
        "outputId": "bc512817-b166-401f-8e5f-4a284ed89a65"
      },
      "outputs": [
        {
          "output_type": "execute_result",
          "data": {
            "text/plain": [
              "100"
            ]
          },
          "metadata": {},
          "execution_count": 104
        }
      ],
      "source": [
        "sample = df['grossincome'][0:100]\n",
        "#sample count\n",
        "n = sample.count()\n",
        "n"
      ]
    },
    {
      "cell_type": "code",
      "execution_count": null,
      "metadata": {
        "id": "PaEZYHh9y43q"
      },
      "outputs": [],
      "source": [
        ""
      ]
    },
    {
      "cell_type": "code",
      "execution_count": null,
      "metadata": {
        "colab": {
          "base_uri": "https://localhost:8080/"
        },
        "id": "01wFnOAHjENC",
        "outputId": "7ce4074b-172b-4d3a-9635-aca1fb585ab6"
      },
      "outputs": [
        {
          "output_type": "execute_result",
          "data": {
            "text/plain": [
              "17.44158499999999"
            ]
          },
          "metadata": {},
          "execution_count": 105
        }
      ],
      "source": [
        "#sample mean\n",
        "sampleMean = sample.mean()\n",
        "sampleMean"
      ]
    },
    {
      "cell_type": "code",
      "execution_count": null,
      "metadata": {
        "colab": {
          "base_uri": "https://localhost:8080/"
        },
        "id": "nX_DNoDQjRLD",
        "outputId": "74adcd64-fa9d-4c2d-e2c4-d774d37f75de"
      },
      "outputs": [
        {
          "output_type": "execute_result",
          "data": {
            "text/plain": [
              "143.92089005583333"
            ]
          },
          "metadata": {},
          "execution_count": 106
        }
      ],
      "source": [
        "# sample variance\n",
        "sampleVar = sample.var()\n",
        "sampleVar"
      ]
    },
    {
      "cell_type": "code",
      "execution_count": null,
      "metadata": {
        "colab": {
          "base_uri": "https://localhost:8080/"
        },
        "id": "jS9OPzMlzaQB",
        "outputId": "1b763bdc-c276-413e-bd06-87bab2ae5155"
      },
      "outputs": [
        {
          "output_type": "execute_result",
          "data": {
            "text/plain": [
              "11.996703299483293"
            ]
          },
          "metadata": {},
          "execution_count": 107
        }
      ],
      "source": [
        "# standred dev\n",
        "std = math.sqrt(sampleVar)\n",
        "std"
      ]
    },
    {
      "cell_type": "code",
      "execution_count": null,
      "metadata": {
        "id": "qq6xN8XLj1ZL"
      },
      "outputs": [],
      "source": [
        "confIntterval = 0.95\n",
        "alpha = 1 - confIntterval"
      ]
    },
    {
      "cell_type": "code",
      "execution_count": null,
      "metadata": {
        "id": "qHrjK4o13oTC"
      },
      "outputs": [],
      "source": [
        ""
      ]
    },
    {
      "cell_type": "code",
      "execution_count": null,
      "metadata": {
        "colab": {
          "base_uri": "https://localhost:8080/"
        },
        "id": "_HCX4gUVj2Ky",
        "outputId": "53a1f18c-7d91-463f-8b25-f9ce7fd4537f"
      },
      "outputs": [
        {
          "output_type": "stream",
          "name": "stdout",
          "text": [
            "1.1996703299483293\n"
          ]
        },
        {
          "output_type": "execute_result",
          "data": {
            "text/plain": [
              "2.0537"
            ]
          },
          "metadata": {},
          "execution_count": 109
        }
      ],
      "source": [
        "# std error\n",
        "stdErr = std / math.sqrt(n)\n",
        "print(stdErr)\n",
        "# z score\n",
        "z = abs(-2.0537)\n",
        "z"
      ]
    },
    {
      "cell_type": "code",
      "execution_count": null,
      "metadata": {
        "colab": {
          "base_uri": "https://localhost:8080/"
        },
        "id": "i0h31to62MLk",
        "outputId": "24f75f9f-34b1-4dee-9b57-9c2feec4d9b3"
      },
      "outputs": [
        {
          "output_type": "execute_result",
          "data": {
            "text/plain": [
              "19.905347956614875"
            ]
          },
          "metadata": {},
          "execution_count": 110
        }
      ],
      "source": [
        "# upper limit\n",
        "upperBound = sampleMean + (z * stdErr)\n",
        "upperBound"
      ]
    },
    {
      "cell_type": "code",
      "execution_count": null,
      "metadata": {
        "colab": {
          "base_uri": "https://localhost:8080/"
        },
        "id": "ky8fQ9lr4r7R",
        "outputId": "fea122bd-1058-4f3a-fc69-ca759dfb3a95"
      },
      "outputs": [
        {
          "output_type": "execute_result",
          "data": {
            "text/plain": [
              "14.977822043385105"
            ]
          },
          "metadata": {},
          "execution_count": 111
        }
      ],
      "source": [
        "#lower limit\n",
        "lowerBound = sampleMean - (z* stdErr)\n",
        "lowerBound"
      ]
    },
    {
      "cell_type": "code",
      "execution_count": null,
      "metadata": {
        "colab": {
          "base_uri": "https://localhost:8080/"
        },
        "id": "_Wt2ChnT49wz",
        "outputId": "05c51d6a-edc5-4413-f9b3-0637df6a47bb"
      },
      "outputs": [
        {
          "output_type": "stream",
          "name": "stdout",
          "text": [
            "95% confidence interval of growth income lies bteween lowerlimit 14.977822043385105 and upperlimit  19.905347956614875\n"
          ]
        }
      ],
      "source": [
        "print(\"95% confidence interval of growth income lies bteween lowerlimit\" , lowerBound , \"and upperlimit \",upperBound)"
      ]
    },
    {
      "cell_type": "code",
      "execution_count": null,
      "metadata": {
        "scrolled": true,
        "colab": {
          "base_uri": "https://localhost:8080/"
        },
        "id": "CBFdsQIhTuJr",
        "outputId": "3b474de7-144b-44b7-cc6d-22dd456ff00e"
      },
      "outputs": [
        {
          "output_type": "stream",
          "name": "stdout",
          "text": [
            "Q1 of Unit Price ---------------------------------------------------\n",
            "32.875\n",
            "Q3 of Unit Price ---------------------------------------------------\n",
            "77.935\n",
            "IQR of Unit Price ---------------------------------------------------\n",
            "45.06\n",
            "Q2-Q1:  22.355000000000004\n",
            "Q3-Q2:  22.705\n",
            "Since (Q3-Q2) > (Q2-Q1) , then its right skewed \n"
          ]
        }
      ],
      "source": [
        "print(\"Q1 of Unit Price ---------------------------------------------------\")\n",
        "Q1= np.quantile(df['Unit price'],0.25)\n",
        "print(Q1)\n",
        "print(\"Q3 of Unit Price ---------------------------------------------------\")\n",
        "Q3= np.quantile(df['Unit price'],0.75)  \n",
        "print(Q3)\n",
        "print(\"IQR of Unit Price ---------------------------------------------------\")\n",
        "IQR = Q3 - Q1 \n",
        "print(IQR)\n",
        "print(\"Q2-Q1: \",Q2-Q1)\n",
        "print(\"Q3-Q2: \",Q3-Q2)\n",
        "print(\"Since (Q3-Q2) > (Q2-Q1) , then its right skewed \")"
      ]
    },
    {
      "cell_type": "code",
      "execution_count": null,
      "metadata": {
        "scrolled": false,
        "colab": {
          "base_uri": "https://localhost:8080/",
          "height": 282
        },
        "id": "RetFJCe2TuJt",
        "outputId": "9725603c-0a76-4eb3-9077-b8be4bc6a8e0"
      },
      "outputs": [
        {
          "output_type": "execute_result",
          "data": {
            "text/plain": [
              "<matplotlib.axes._subplots.AxesSubplot at 0x7f5056ac95d0>"
            ]
          },
          "metadata": {},
          "execution_count": 123
        },
        {
          "output_type": "display_data",
          "data": {
            "image/png": "[encoded data removed]",
            "text/plain": [
              "<Figure size 432x288 with 1 Axes>"
            ]
          },
          "metadata": {
            "needs_background": "light"
          }
        }
      ],
      "source": [
        "df.boxplot(column=['Unit price'])"
      ]
    },
    {
      "cell_type": "code",
      "source": [
        "#@title lvl 1"
      ],
      "metadata": {
        "id": "nR886434kWIO"
      },
      "execution_count": null,
      "outputs": []
    },
    {
      "cell_type": "code",
      "execution_count": null,
      "metadata": {
        "colab": {
          "base_uri": "https://localhost:8080/"
        },
        "id": "ZEhlBrVVlfEN",
        "outputId": "396c2700-686e-4b90-dff6-f4166afada9d",
        "scrolled": true
      },
      "outputs": [
        {
          "output_type": "stream",
          "name": "stdout",
          "text": [
            "median of Unit Price ---------------------------------------\n",
            "55.230000000000004\n",
            "mean of Unit Price -----------------------------------------\n",
            "55.67212999999998\n",
            "variance of unit priec---------------------------------------------------\n",
            "701.9653312943939\n"
          ]
        }
      ],
      "source": [
        "print(\"median of Unit Price ---------------------------------------\")\n",
        "Q2 = df['Unit price'].median()\n",
        "print(Q2)\n",
        "print(\"mean of Unit Price -----------------------------------------\")\n",
        "mean=df['Unit price'].mean()\n",
        "print(mean)\n",
        "print(\"variance of unit priec---------------------------------------------------\")\n",
        "variance=df['Unit price'].var()\n",
        "print(variance)\n"
      ]
    },
    {
      "cell_type": "code",
      "execution_count": null,
      "metadata": {
        "scrolled": true,
        "colab": {
          "base_uri": "https://localhost:8080/"
        },
        "id": "F6RNLpSkTuJx",
        "outputId": "579a9df8-f1c5-4836-ced7-f1425af72c98"
      },
      "outputs": [
        {
          "output_type": "stream",
          "name": "stdout",
          "text": [
            "mode of Ratings ------------------------------------------\n",
            "0    6.0\n",
            "dtype: float64\n",
            "mode of Quantity ------------------------------------------\n"
          ]
        },
        {
          "output_type": "execute_result",
          "data": {
            "text/plain": [
              "0    10\n",
              "dtype: int64"
            ]
          },
          "metadata": {},
          "execution_count": 126
        }
      ],
      "source": [
        "print(\"mode of Ratings ------------------------------------------\")\n",
        "Ratingmode=df['Rating'].mode()\n",
        "print(Ratingmode)\n",
        "print(\"mode of Quantity ------------------------------------------\")\n",
        "Quantitymode=df['Quantity'].mode()\n",
        "Quantitymode"
      ]
    },
    {
      "cell_type": "code",
      "execution_count": null,
      "metadata": {
        "colab": {
          "base_uri": "https://localhost:8080/",
          "height": 265
        },
        "id": "sVlshzt-Gll9",
        "outputId": "e7ee125a-4f74-4e38-f6de-5f71397ce8b8",
        "scrolled": true
      },
      "outputs": [
        {
          "output_type": "display_data",
          "data": {
            "image/png": "[encoded data removed]",
            "text/plain": [
              "<Figure size 432x288 with 1 Axes>"
            ]
          },
          "metadata": {
            "needs_background": "light"
          }
        }
      ],
      "source": [
        "#most profitable city\n",
        "city = df.groupby('City').sum()\n",
        "c = ['Yangon','Mandalay','Naypyitaw']\n",
        "#ploting\n",
        "plt.bar(c,df['City'].value_counts())\n",
        "plt.show()"
      ]
    },
    {
      "cell_type": "code",
      "execution_count": null,
      "metadata": {
        "colab": {
          "base_uri": "https://localhost:8080/",
          "height": 265
        },
        "id": "E3wnuUbfJTin",
        "outputId": "33e73b8a-6adb-49d1-f69f-dc988a04287a"
      },
      "outputs": [
        {
          "output_type": "display_data",
          "data": {
            "image/png": "[encoded data removed]",
            "text/plain": [
              "<Figure size 432x288 with 1 Axes>"
            ]
          },
          "metadata": {
            "needs_background": "light"
          }
        }
      ],
      "source": [
        "#most profitable branch\n",
        "branch = df.groupby('Branch').sum()\n",
        "c = ['A','B','C']\n",
        "#ploting\n",
        "plt.bar(c,df['Branch'].value_counts())\n",
        "plt.show()"
      ]
    },
    {
      "cell_type": "code",
      "execution_count": null,
      "metadata": {
        "colab": {
          "base_uri": "https://localhost:8080/",
          "height": 387
        },
        "id": "n4wPVeeHSmds",
        "outputId": "2afa4511-3b04-4ece-b7ac-d358c8a7f92d"
      },
      "outputs": [
        {
          "output_type": "stream",
          "name": "stdout",
          "text": [
            "Fashion accessories       178\n",
            "Food and beverages        174\n",
            "Electronic accessories    170\n",
            "Sports and travel         166\n",
            "Home and lifestyle        160\n",
            "Health and beauty         152\n",
            "Name: Product line, dtype: int64\n"
          ]
        },
        {
          "output_type": "display_data",
          "data": {
            "image/png": "[encoded data removed]",
            "text/plain": [
              "<Figure size 432x288 with 1 Axes>"
            ]
          },
          "metadata": {
            "needs_background": "light"
          }
        }
      ],
      "source": [
        "#product line\n",
        "# list of Product_line\n",
        "l = ['Fashion','Food', 'Electronic', 'Sports', 'Home', 'Health']\n",
        "print(df['Product line'].value_counts())\n",
        "plt.bar(l,df['Product line'].value_counts())\n",
        "plt.show()"
      ]
    },
    {
      "cell_type": "code",
      "execution_count": null,
      "metadata": {
        "colab": {
          "base_uri": "https://localhost:8080/",
          "height": 283
        },
        "id": "PCKo0mm4GTdt",
        "outputId": "4966652d-bd0c-44cf-c93d-b076657d087b"
      },
      "outputs": [
        {
          "output_type": "stream",
          "name": "stdout",
          "text": [
            "number of normal custmers 499\n",
            "number of member custmers 501\n"
          ]
        },
        {
          "output_type": "display_data",
          "data": {
            "image/png": "[encoded data removed]",
            "text/plain": [
              "<Figure size 432x288 with 1 Axes>"
            ]
          },
          "metadata": {}
        }
      ],
      "source": [
        "df.groupby('Customer type')['Customer type'].count().plot(kind = 'pie')\n",
        "print(\"number of normal custmers\",df.City[df['Customer type'] == \"Normal\"].count())\n",
        "print(\"number of member custmers\",df.City[df['Customer type'] == \"Member\"].count())"
      ]
    },
    {
      "cell_type": "code",
      "execution_count": null,
      "metadata": {
        "colab": {
          "base_uri": "https://localhost:8080/",
          "height": 300
        },
        "id": "Iw08PqdOJpdh",
        "outputId": "23efa172-60dd-4a2d-d3d7-47cda443dba6"
      },
      "outputs": [
        {
          "output_type": "stream",
          "name": "stdout",
          "text": [
            "number of cash payments 344\n",
            "number of Ewallet payments 345\n",
            "number of credit card payments 311\n"
          ]
        },
        {
          "output_type": "display_data",
          "data": {
            "image/png": "[encoded data removed]",
            "text/plain": [
              "<Figure size 432x288 with 1 Axes>"
            ]
          },
          "metadata": {}
        }
      ],
      "source": [
        "df.groupby('Payment')['Payment'].count().plot(kind = 'pie')\n",
        "print(\"number of cash payments\",df.City[df['Payment'] == \"Cash\"].count())\n",
        "print(\"number of Ewallet payments\",df.City[df['Payment'] == \"Ewallet\"].count())\n",
        "print(\"number of credit card payments\",df.City[df['Payment'] == \"Credit card\"].count())"
      ]
    },
    {
      "cell_type": "code",
      "execution_count": null,
      "metadata": {
        "id": "qbLpAQszvqCB"
      },
      "outputs": [],
      "source": [
        "#pd.set_option(\"display.max_rows\", None, \"display.max_columns\", None)"
      ]
    },
    {
      "cell_type": "code",
      "source": [
        "#@title correlation and regression"
      ],
      "metadata": {
        "cellView": "form",
        "id": "xFHQn-88hvRl"
      },
      "execution_count": null,
      "outputs": []
    },
    {
      "cell_type": "code",
      "execution_count": null,
      "metadata": {
        "id": "-tmp-eKQm2MJ",
        "scrolled": true,
        "colab": {
          "base_uri": "https://localhost:8080/"
        },
        "outputId": "7714a996-5867-44b2-dc3f-2be8df29d0b6"
      },
      "outputs": [
        {
          "output_type": "stream",
          "name": "stdout",
          "text": [
            "Correlation between Quantity and Gross Income-------------------------\n"
          ]
        },
        {
          "output_type": "execute_result",
          "data": {
            "text/plain": [
              "0.7055101859433066"
            ]
          },
          "metadata": {},
          "execution_count": 127
        }
      ],
      "source": [
        "print(\"Correlation between Quantity and Gross Income-------------------------\")\n",
        "column_1 = df['Quantity']\n",
        "column_2 = df['grossincome']\n",
        "correlation = column_1.corr(column_2)\n",
        "correlation"
      ]
    },
    {
      "cell_type": "code",
      "source": [
        "import scipy.stats as stats"
      ],
      "metadata": {
        "id": "1DQ63jZGdxZy"
      },
      "execution_count": null,
      "outputs": []
    },
    {
      "cell_type": "code",
      "source": [
        "# regression\n",
        "col1 = df['Unit price']\n",
        "col2 = df['grossincome']\n",
        "m1 = col1.mean()\n",
        "m2 = col2.mean()\n",
        "std1 = np.sqrt(col1.var())\n",
        "std2 = np.sqrt(col2.var())\n",
        "z1 = stats.zscore(col1)\n",
        "z2 = stats.zscore(col2)\n",
        "r = np.sum(z1*z2)/999\n",
        "b1 = r * (std2/std1)\n",
        "b0 = m2 - (m1 * b1)\n",
        "\n",
        "yhat = b0 + b1*(15.28)\n",
        "print(\"y predicted\")\n",
        "print(yhat)\n",
        "\n",
        "print(\"coefficient of determination\")\n",
        "coefOfdet = r*r\n",
        "print(coefOfdet*100)\n",
        "\n"
      ],
      "metadata": {
        "colab": {
          "base_uri": "https://localhost:8080/"
        },
        "id": "pupdwKC6cTDH",
        "outputId": "f8472cb6-9926-4c16-bd6a-be049b2a24b5"
      },
      "execution_count": null,
      "outputs": [
        {
          "output_type": "stream",
          "name": "stdout",
          "text": [
            "y predicted\n",
            "4.0514520638911895\n",
            "coefficient of determination\n",
            "40.271295296118396\n"
          ]
        }
      ]
    },
    {
      "cell_type": "code",
      "execution_count": null,
      "metadata": {
        "id": "FJEZ5IJbFZtH",
        "cellView": "form"
      },
      "outputs": [],
      "source": [
        "#@title machine learning model"
      ]
    },
    {
      "cell_type": "code",
      "source": [
        "r1 = df['Unit price']\n",
        "r2 = df['grossincome']\n",
        "r1_test = df['Unit price']\n",
        "r2_test = df['grossincome']\n",
        "r1 = r1.iloc[:800].values.reshape(800,1)\n",
        "r2 = r2.iloc[:800].values.reshape(800,1)\n",
        "r1_test = r1_test.iloc[:200].values.reshape(200,1)\n",
        "r2_test = r2_test.iloc[:200].values.reshape(200,1)\n",
        "\n",
        "print(r1_test.shape)\n"
      ],
      "metadata": {
        "colab": {
          "base_uri": "https://localhost:8080/"
        },
        "id": "-HRF02E0kZoY",
        "outputId": "9cfad6f5-7fdd-45ef-e13c-f651ccfae80d"
      },
      "execution_count": null,
      "outputs": [
        {
          "output_type": "stream",
          "name": "stdout",
          "text": [
            "(200, 1)\n"
          ]
        }
      ]
    },
    {
      "cell_type": "code",
      "source": [
        "plt.figure(figsize=(6, 6))\n",
        "plt.plot(r1, r2, 'ro', ms=8, mec='k')\n",
        "plt.title(\"Data\")\n",
        "plt.xlabel('unit price')\n",
        "plt.ylabel('gross income')\n",
        "plt.grid(False)"
      ],
      "metadata": {
        "colab": {
          "base_uri": "https://localhost:8080/",
          "height": 404
        },
        "id": "4wm1KIy2lffn",
        "outputId": "3b66a4f9-436d-475c-8252-3040c2b4fc89"
      },
      "execution_count": null,
      "outputs": [
        {
          "output_type": "display_data",
          "data": {
            "image/png": "[encoded data removed]",
            "text/plain": [
              "<Figure size 432x432 with 1 Axes>"
            ]
          },
          "metadata": {
            "needs_background": "light"
          }
        }
      ]
    },
    {
      "cell_type": "code",
      "source": [
        "def Predictive_Line(r1, Theta):\n",
        "    Predictions = None\n",
        "    r1 = np.append(np.ones((1,r1.shape[0])), r1.reshape((1,r1.shape[0])), axis = 0)\n",
        "    Predictions = np.dot(Theta.T , r1)\n",
        "    Predictions = Predictions.T\n",
        "    return Predictions"
      ],
      "metadata": {
        "id": "dNFyI_W8lfmG"
      },
      "execution_count": null,
      "outputs": []
    },
    {
      "cell_type": "code",
      "source": [
        "def Calculate_Cost(r1, Theta, r2):\n",
        "    m = r2.shape[0]\n",
        "    J = 0\n",
        "    hypothesis = Predictive_Line(r1, Theta)\n",
        "    J = np.sum( np.power( ( hypothesis - r2 ) , 2 ) ) / (2 * m) \n",
        "    return J"
      ],
      "metadata": {
        "id": "OVWcskLHlfrK"
      },
      "execution_count": null,
      "outputs": []
    },
    {
      "cell_type": "code",
      "source": [
        "def Gradient_Descent(r1, r2, Theta, alpha, num_iters):\n",
        "\n",
        "    m = r2.shape[0]  \n",
        "    for i in range(num_iters):\n",
        "      hypothesis = Predictive_Line(r1, Theta.reshape((2,1)))\n",
        "      Theta = Theta - (alpha / m) * ( ( hypothesis - r2 ).T ).dot(r1)\n",
        "    return Theta"
      ],
      "metadata": {
        "id": "3YWm5UFFrfeI"
      },
      "execution_count": null,
      "outputs": []
    },
    {
      "cell_type": "code",
      "source": [
        "Theta = Gradient_Descent(r1, r2, Theta = np.array([0.1,0.4]).reshape((1,2)), alpha = 0.0001,num_iters= 10000)\n",
        "P = Predictive_Line(r1, Theta.T)\n",
        "Cost = Calculate_Cost(r1, Theta.T, r2)\n",
        "print('Theta = ' + str(Theta))\n",
        "print( 'Cost = '+str(Cost))"
      ],
      "metadata": {
        "colab": {
          "base_uri": "https://localhost:8080/"
        },
        "id": "G6KGerz-r4h5",
        "outputId": "602695df-9338-43df-a377-2f312b383cf8"
      },
      "execution_count": null,
      "outputs": [
        {
          "output_type": "stream",
          "name": "stdout",
          "text": [
            "Theta = [[-0.0206553  0.2793447]]\n",
            "Cost = 40.73499003849988\n"
          ]
        }
      ]
    },
    {
      "cell_type": "code",
      "source": [
        "plt.figure(figsize=(6, 6))\n",
        "plt.plot(r1, r2, 'ro', ms=8, mec='k')\n",
        "plt.title(\"Data\")\n",
        "plt.xlabel('unit price')\n",
        "plt.ylabel('gross income')\n",
        "plt.grid(False)\n",
        "plt.plot(r1, P, '-')\n",
        "plt.legend(['Training data', 'Predictive Line']);"
      ],
      "metadata": {
        "colab": {
          "base_uri": "https://localhost:8080/",
          "height": 404
        },
        "id": "VmOzQ6rar4v6",
        "outputId": "c0a6b611-b694-4631-966d-98933928cc53"
      },
      "execution_count": null,
      "outputs": [
        {
          "output_type": "display_data",
          "data": {
            "image/png": "[encoded data removed]",
            "text/plain": [
              "<Figure size 432x432 with 1 Axes>"
            ]
          },
          "metadata": {
            "needs_background": "light"
          }
        }
      ]
    },
    {
      "cell_type": "code",
      "source": [
        "a = P = Predictive_Line(r1_test, Theta.T)\n",
        "a\n"
      ],
      "metadata": {
        "id": "DPYsCyKLguvx"
      },
      "execution_count": null,
      "outputs": []
    },
    {
      "cell_type": "code",
      "source": [
        ""
      ],
      "metadata": {
        "id": "G2FwNXsFgu1J"
      },
      "execution_count": null,
      "outputs": []
    }
  ],
  "metadata": {
    "colab": {
      "collapsed_sections": [],
      "name": "super_markett_2 (1).ipynb",
      "provenance": []
    },
    "kernelspec": {
      "display_name": "Python 3",
      "language": "python",
      "name": "python3"
    },
    "language_info": {
      "codemirror_mode": {
        "name": "ipython",
        "version": 3
      },
      "file_extension": ".py",
      "mimetype": "text/x-python",
      "name": "python",
      "nbconvert_exporter": "python",
      "pygments_lexer": "ipython3",
      "version": "3.8.5"
    }
  },
  "nbformat": 4,
  "nbformat_minor": 0
}